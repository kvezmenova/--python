{
  "nbformat": 4,
  "nbformat_minor": 0,
  "metadata": {
    "colab": {
      "provenance": []
    },
    "kernelspec": {
      "name": "python3",
      "display_name": "Python 3"
    },
    "language_info": {
      "name": "python"
    }
  },
  "cells": [
    {
      "cell_type": "markdown",
      "source": [
        "Вариант 4.\n",
        "Найти все интервалы между появлениями цифры 1 в первом миллионе знаков числа\n",
        "пи https://www.piday.org/million/.\n",
        "\n",
        "Аппроксимировать равномерным на целых числах (randint), планковским (plank), логарифмическим (logser) распределением.\n",
        "\n",
        "Вывести вероятности для полученных аппроксимаций вместе с гистограммой, посчитать среднее значение логарифмической функции правдоподобия.\n"
      ],
      "metadata": {
        "id": "6Bym5qwwK7ZH"
      }
    },
    {
      "cell_type": "code",
      "source": [
        "import requests\n",
        "import time\n",
        "\n",
        "import numpy as np\n",
        "import matplotlib.pyplot as plt\n",
        "import seaborn as sns\n",
        "from scipy.stats import randint, planck, logser\n",
        "from scipy import stats"
      ],
      "metadata": {
        "id": "b9KIJz0TLFny"
      },
      "execution_count": 1,
      "outputs": []
    },
    {
      "cell_type": "code",
      "source": [
        "# Парсинг числа пи с сайта\n",
        "\n",
        "# URL для запросов\n",
        "base_url = \"https://www.piday.org/wp-json/millionpi/v1/million?action=example_ajax_request&page=\"\n",
        "\n",
        "# Переменная для хранения числа пи\n",
        "pi_text = \"\"\n",
        "\n",
        "# Проходим по страницам от 1 до 20\n",
        "for page in range(1, 21):\n",
        "    # Формируем URL для каждой страницы\n",
        "    ajax_url = base_url + str(page)\n",
        "\n",
        "    # Выполняем запрос\n",
        "    response = requests.get(ajax_url)\n",
        "\n",
        "    # Пироверка успешности запроса\n",
        "    if response.status_code == 200:\n",
        "        # Добавляем текст из ответа к общему числу\n",
        "        pi_text += response.text\n",
        "\n",
        "    # Пауза, чтобы избежать блокировки от сервера\n",
        "    time.sleep(0.5)"
      ],
      "metadata": {
        "id": "MycnGNQGLJdt"
      },
      "execution_count": 2,
      "outputs": []
    },
    {
      "cell_type": "code",
      "source": [
        "# Число символов, собранных в результате запроса\n",
        "print(f\"Всего собрано {len(pi_text)} символов.\")"
      ],
      "metadata": {
        "colab": {
          "base_uri": "https://localhost:8080/"
        },
        "id": "19PfsS2hLPkz",
        "outputId": "2881ea25-dd13-4fb6-f418-6d0ccc603d21"
      },
      "execution_count": 3,
      "outputs": [
        {
          "output_type": "stream",
          "name": "stdout",
          "text": [
            "Всего собрано 1000042 символов.\n"
          ]
        }
      ]
    },
    {
      "cell_type": "code",
      "source": [
        "# Выводим нечисловые символы, чтобы понять, какие лишние\n",
        "print(''.join([char for char in pi_text if not char.isdigit()]))"
      ],
      "metadata": {
        "colab": {
          "base_uri": "https://localhost:8080/"
        },
        "id": "2oqdPvzoLRHs",
        "outputId": "44cf3781-38c5-4ce1-ce08-1d5c621a2deb"
      },
      "execution_count": 4,
      "outputs": [
        {
          "output_type": "stream",
          "name": "stdout",
          "text": [
            "\".\"\"\"\"\"\"\"\"\"\"\"\"\"\"\"\"\"\"\"\"\"\"\"\"\"\"\"\"\"\"\"\"\"\"\"\"\"\"\"\n"
          ]
        }
      ]
    },
    {
      "cell_type": "code",
      "source": [
        "# Удаляем двойные ковычки из строк\n",
        "pi_text = pi_text.replace('\"', '')\n",
        "\n",
        "# Вывод первых и последних 100 символов числа пи, чтобы проверить его достоверность\n",
        "print(pi_text[:100])\n",
        "print(pi_text[-100:])\n",
        "\n",
        "# Проверка, сколько символов осталось в результате проверки\n",
        "print(f\"Всего собрано {len(pi_text)} символов.\")"
      ],
      "metadata": {
        "colab": {
          "base_uri": "https://localhost:8080/"
        },
        "id": "ZSkBU58kLSWb",
        "outputId": "a725d915-d216-4988-9ad9-32055de33a66"
      },
      "execution_count": 5,
      "outputs": [
        {
          "output_type": "stream",
          "name": "stdout",
          "text": [
            "3.14159265358979323846264338327950288419716939937510582097494459230781640628620899862803482534211706\n",
            "0315614033321272849194418437150696552087542450598956787961303311646283996346460422090106105779458151\n",
            "Всего собрано 1000002 символов.\n"
          ]
        }
      ]
    },
    {
      "cell_type": "code",
      "source": [
        "# Индексы, где есть цифра '1'\n",
        "indices_of_one = [i for i, digit in enumerate(pi_text) if digit == '1']\n",
        "\n",
        "# Рассчет интервалов между последовательными появлениями '1'\n",
        "intervals = np.diff(indices_of_one) - 1\n",
        "\n",
        "intervals"
      ],
      "metadata": {
        "colab": {
          "base_uri": "https://localhost:8080/"
        },
        "id": "n-JNgU7lLTfm",
        "outputId": "481711fd-4db2-4850-cec4-a114d60ccb05"
      },
      "execution_count": 6,
      "outputs": [
        {
          "output_type": "execute_result",
          "data": {
            "text/plain": [
              "array([ 1, 33,  2, ...,  2,  8,  1])"
            ]
          },
          "metadata": {},
          "execution_count": 6
        }
      ]
    },
    {
      "cell_type": "code",
      "source": [
        "# Равномерное на всех числах (randint) распределение\n",
        "sns.histplot(intervals, stat='density', discrete=True)\n",
        "T=range(max(intervals) + 1)\n",
        "plt.plot(T, stats.randint.pmf(T, min(intervals), max(intervals) + 1), color='red')\n",
        "plt.show()\n",
        "\n",
        "u=sum(stats.randint.logpmf(intervals, min(intervals), max(intervals) + 1))/len(intervals)\n",
        "print('Среднее значение логарифма правдоподобия {:.3}'.format(u))"
      ],
      "metadata": {
        "colab": {
          "base_uri": "https://localhost:8080/",
          "height": 447
        },
        "id": "1r4K6kckLUub",
        "outputId": "47154e62-1d65-4b83-8663-9b04e5ab6cac"
      },
      "execution_count": 7,
      "outputs": [
        {
          "output_type": "display_data",
          "data": {
            "text/plain": [
              "<Figure size 640x480 with 1 Axes>"
            ],
            "image/png": "[encoded data removed]"
          },
          "metadata": {}
        },
        {
          "output_type": "stream",
          "name": "stdout",
          "text": [
            "Среднее значение логарифма правдоподобия -4.84\n"
          ]
        }
      ]
    },
    {
      "cell_type": "code",
      "source": [
        "# Планковское (plank) распределение\n",
        "a = 2.0\n",
        "sns.histplot(intervals, stat='density', discrete=True)\n",
        "T=range(min(intervals),max(intervals)+1)\n",
        "plt.plot(T,stats.planck.pmf(T,a), color='red')\n",
        "plt.show()\n",
        "\n",
        "u=sum(stats.planck.logpmf(intervals, a))/len(intervals)\n",
        "print('Среднее значение логарифма правдоподобия {:.3}'.format(u))"
      ],
      "metadata": {
        "colab": {
          "base_uri": "https://localhost:8080/",
          "height": 447
        },
        "id": "XXGsI7X5LWyI",
        "outputId": "3d63b662-4a17-4d76-fc17-b80c99e409f9"
      },
      "execution_count": 8,
      "outputs": [
        {
          "output_type": "display_data",
          "data": {
            "text/plain": [
              "<Figure size 640x480 with 1 Axes>"
            ],
            "image/png": "[encoded data removed]"
          },
          "metadata": {}
        },
        {
          "output_type": "stream",
          "name": "stdout",
          "text": [
            "Среднее значение логарифма правдоподобия -18.2\n"
          ]
        }
      ]
    },
    {
      "cell_type": "code",
      "source": [
        "# Логарифмическое (logser) распределение\n",
        "a = 0.5\n",
        "sns.histplot(intervals, stat='density', discrete=True)\n",
        "T = range(1, max(intervals) + 1)  # logser определен для положительных целых чисел\n",
        "plt.plot(T, stats.logser.pmf(T, a), color='red')\n",
        "plt.show()\n",
        "\n",
        "u = sum(stats.logser.logpmf(intervals, a)) / len(intervals)\n",
        "print('Среднее значение логарифма правдоподобия {:.3}'.format(u))"
      ],
      "metadata": {
        "colab": {
          "base_uri": "https://localhost:8080/",
          "height": 447
        },
        "id": "q1SPx0rkLYHK",
        "outputId": "7f6ab91b-4d5b-4d26-e57b-c29e4735602e"
      },
      "execution_count": 9,
      "outputs": [
        {
          "output_type": "display_data",
          "data": {
            "text/plain": [
              "<Figure size 640x480 with 1 Axes>"
            ],
            "image/png": "[encoded data removed]"
          },
          "metadata": {}
        },
        {
          "output_type": "stream",
          "name": "stdout",
          "text": [
            "Среднее значение логарифма правдоподобия -inf\n"
          ]
        }
      ]
    }
  ]
}